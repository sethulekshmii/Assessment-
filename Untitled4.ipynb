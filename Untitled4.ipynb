{
  "nbformat": 4,
  "nbformat_minor": 0,
  "metadata": {
    "colab": {
      "provenance": []
    },
    "kernelspec": {
      "name": "python3",
      "display_name": "Python 3"
    },
    "language_info": {
      "name": "python"
    }
  },
  "cells": [
    {
      "cell_type": "code",
      "execution_count": null,
      "metadata": {
        "colab": {
          "base_uri": "https://localhost:8080/"
        },
        "id": "_uMioMnHu14b",
        "outputId": "e1434f48-4271-47e8-df96-87def72471e9"
      },
      "outputs": [
        {
          "output_type": "stream",
          "name": "stdout",
          "text": [
            "['e', 'd', 'c', 'b', 'a']\n"
          ]
        }
      ],
      "source": [
        "#section 1\n",
        "#1 qns-write the output of the following\n",
        "#k=['a','b','c','d','e']\n",
        "#print(k[-1:-7:-1])\n",
        "\n",
        "k=['a','b','c','d','e']\n",
        "print(k[-1:-7:-1])"
      ]
    },
    {
      "cell_type": "code",
      "source": [
        "#2 qns-reverse a list using python\n",
        "#list1=[100,200,300,400,500]\n",
        "\n",
        "list1=[100,200,300,400,500]\n",
        "list1.reverse()\n",
        "print(list1)"
      ],
      "metadata": {
        "colab": {
          "base_uri": "https://localhost:8080/"
        },
        "id": "57JGpQLXvovQ",
        "outputId": "8856c249-210b-4e2f-9d8e-f7bb24eff0d1"
      },
      "execution_count": null,
      "outputs": [
        {
          "output_type": "stream",
          "name": "stdout",
          "text": [
            "[500, 400, 300, 200, 100]\n"
          ]
        }
      ]
    },
    {
      "cell_type": "code",
      "source": [
        "#3 qns-given two numbers,write a python code to find the maximum of these two numbers\n",
        "#sample input:a=2,b=4\n",
        "\n",
        "n=int(input('enter the first number'))\n",
        "m=int(input('enter the second number'))\n",
        "x=(n,m)\n",
        "print(max(x),'is the maximum')"
      ],
      "metadata": {
        "colab": {
          "base_uri": "https://localhost:8080/"
        },
        "id": "wYiZ_WznwT9_",
        "outputId": "4239f6f0-3f05-450d-e2c1-07fbcc2c7498"
      },
      "execution_count": null,
      "outputs": [
        {
          "output_type": "stream",
          "name": "stdout",
          "text": [
            "enter the first number2\n",
            "enter the second number4\n",
            "4 is the maximum\n"
          ]
        }
      ]
    },
    {
      "cell_type": "code",
      "source": [
        "#section 2\n",
        "#4 qns-write a python program to ;rint the current year,month and day\n",
        "\n",
        "year=2002\n",
        "month=9\n",
        "day=11\n",
        "print(year,month,day,sep='/')"
      ],
      "metadata": {
        "colab": {
          "base_uri": "https://localhost:8080/"
        },
        "id": "tqn0Uij0xZ3Z",
        "outputId": "05aa7f79-4779-4192-f04e-3352bb4089dd"
      },
      "execution_count": null,
      "outputs": [
        {
          "output_type": "stream",
          "name": "stdout",
          "text": [
            "2002/9/11\n"
          ]
        }
      ]
    },
    {
      "cell_type": "code",
      "source": [
        "#5 qns-write a python program to construct the following pattern,using a nested for loop\n",
        "\n",
        "a=int(input('enter the number'))\n",
        "for i in range(1,a+1):\n",
        "  for j in range(1,i):\n",
        "    print('*',end='')\n",
        "  print()\n",
        "for i in range(a,0,-1):\n",
        "  for j in range(0,i):\n",
        "    print('*',end='')\n",
        "  print()\n"
      ],
      "metadata": {
        "colab": {
          "base_uri": "https://localhost:8080/"
        },
        "id": "kBIQ-pC-zwxg",
        "outputId": "00ebd5d5-a92c-43e1-aa61-54d098fcc6d8"
      },
      "execution_count": null,
      "outputs": [
        {
          "output_type": "stream",
          "name": "stdout",
          "text": [
            "enter the number5\n",
            "\n",
            "*\n",
            "**\n",
            "***\n",
            "****\n",
            "*****\n",
            "****\n",
            "***\n",
            "**\n",
            "*\n"
          ]
        }
      ]
    },
    {
      "cell_type": "code",
      "source": [
        "#6 qns-write a program to accept a string from the user and display characters that are present at an even index number\n",
        "\n",
        "user_in=input('enter a string:')\n",
        "even=[]\n",
        "for i in range(len(user_in)):\n",
        "    if (i+1) % 2 ==0:\n",
        "      even.append(user_in[i])\n",
        "print('even:{}'.format(even))"
      ],
      "metadata": {
        "colab": {
          "base_uri": "https://localhost:8080/"
        },
        "id": "1sVJaRz51CwK",
        "outputId": "d6ef5351-2f77-4496-b658-9c01a03f1c2a"
      },
      "execution_count": null,
      "outputs": [
        {
          "output_type": "stream",
          "name": "stdout",
          "text": [
            "enter a string:sethu\n",
            "even:['e', 'h']\n"
          ]
        }
      ]
    },
    {
      "cell_type": "code",
      "source": [
        "#section 3\n",
        "#7 qns-modify the element of a nested list inside the following list:\n",
        "#sample input:list1=[5,[10,15,[20,25,[30,35],40],45],50]\n",
        "#change the element 35 to 3500\n",
        "\n",
        "list1=[5,[10,15,[20,25,[30,35],40],45],50]\n",
        "list1[-2][-2][-2][-1]=('3500')\n",
        "print(list1)"
      ],
      "metadata": {
        "colab": {
          "base_uri": "https://localhost:8080/"
        },
        "id": "5er9SzK522kL",
        "outputId": "d21a4284-4e6a-4902-cea9-f60fe80bcd5f"
      },
      "execution_count": null,
      "outputs": [
        {
          "output_type": "stream",
          "name": "stdout",
          "text": [
            "[5, [10, 15, [20, 25, [30, '3500'], 40], 45], 50]\n"
          ]
        }
      ]
    },
    {
      "cell_type": "code",
      "source": [
        "#8 qns-write a while loop to display only alphabets from a string\n",
        "\n",
        "string=input('enter a string:')\n",
        "alpha=''\n",
        "for char in string:\n",
        "  if char.isalpha():\n",
        "    alpha += char\n",
        "print(alpha)"
      ],
      "metadata": {
        "colab": {
          "base_uri": "https://localhost:8080/"
        },
        "id": "OhlJh9_s4Vb4",
        "outputId": "97746af5-aa9f-4b6b-d1d6-fd41e81750cf"
      },
      "execution_count": null,
      "outputs": [
        {
          "output_type": "stream",
          "name": "stdout",
          "text": [
            "enter a string:dream2002\n",
            "dream\n"
          ]
        }
      ]
    },
    {
      "cell_type": "code",
      "source": [
        "#9 qns-python program to convert the temperature in degree centigrade to fahrenheit and viceversa\n",
        "\n",
        "Ask=(input(\"Type C to convert to centigrade / Type F to convert to Fahrenhiet \"))\n",
        "\n",
        "if Ask.upper()=='F':\n",
        "  Temp_F=int(input('Temp in Centigrade '))\n",
        "  print((Temp_F-32)/1.8)\n",
        "elif Ask.upper()=='C':\n",
        "  Temp_c=int(input('Temp in Fahrenhiet '))\n",
        "  print((Temp_c*1.8)+32)\n",
        "\n"
      ],
      "metadata": {
        "colab": {
          "base_uri": "https://localhost:8080/"
        },
        "id": "obngbU_L-bak",
        "outputId": "8cd13e2e-2c37-428e-90a5-4a77d96ca6ec"
      },
      "execution_count": 21,
      "outputs": [
        {
          "output_type": "stream",
          "name": "stdout",
          "text": [
            "Type C to convert to centigrade / Type F to convert to Fahrenhiet f\n",
            "Temp in Centigrade 1\n",
            "-17.22222222222222\n"
          ]
        }
      ]
    }
  ]
}